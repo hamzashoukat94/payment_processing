{
 "cells": [
  {
   "cell_type": "code",
   "execution_count": 2,
   "id": "04dcc4fe",
   "metadata": {},
   "outputs": [
    {
     "name": "stdout",
     "output_type": "stream",
     "text": [
      "Capture amount exceeds authorization amount.\n"
     ]
    }
   ],
   "source": [
    "def process_transaction(authorization_amount, purchase_amount, incremental_authorizations, voided_transactions, grand_total_amount, gratuity_amount):\n",
    "    \"\"\"\n",
    "    Processes a transaction and prevents over-authorization due to additional charges like gratuity.\n",
    "\n",
    "    Parameters:\n",
    "    - authorization_amount: The initial amount authorized for the transaction.\n",
    "    - purchase_amount: The amount for goods/services.\n",
    "    - incremental_authorizations: List of amounts for successful incremental authorizations.\n",
    "    - voided_transactions: List of amounts for voided transactions.\n",
    "    - grand_total_amount: The total amount for goods/services and any additional charges.\n",
    "    - gratuity_amount: Any additional charge such as gratuity.\n",
    "\n",
    "    Returns:\n",
    "    - A tuple containing a boolean indicating if the transaction should proceed and a message.\n",
    "    \"\"\"\n",
    "    # Step 1 & 2: Compute Total Capture Amount\n",
    "    total_capture_amount = authorization_amount + purchase_amount\n",
    "    \n",
    "    # Step 3: Check for Successful Incremental Authorizations\n",
    "    if incremental_authorizations:\n",
    "        # Step 4: Check for Voided Transactions\n",
    "        if voided_transactions:\n",
    "            total_capture_amount_after_void = total_capture_amount - sum(voided_transactions)\n",
    "        else:\n",
    "            total_capture_amount_after_void = total_capture_amount\n",
    "        \n",
    "        # Step 5: Validate Against Authorization Limits\n",
    "        if total_capture_amount_after_void > sum(incremental_authorizations):\n",
    "            return False, \"Capture amount exceeds authorization amount.\"\n",
    "    else:\n",
    "        # Directly validate if there are no incremental authorizations\n",
    "        if total_capture_amount > authorization_amount:\n",
    "            return False, \"Total capture amount exceeds authorization amount.\"\n",
    "    \n",
    "    # Step 7: Handle Additional Charges (e.g., Gratuity)\n",
    "    # Adjust the total capture amount to consider the gratuity\n",
    "    adjusted_grand_total_amount = grand_total_amount - gratuity_amount\n",
    "    \n",
    "    # Final Validation Before Processing\n",
    "    if adjusted_grand_total_amount > authorization_amount:\n",
    "        return False, \"Grand total amount exceeds authorization amount after accounting for gratuity.\"\n",
    "    \n",
    "    # If all validations pass, allow the transaction to proceed\n",
    "    return True, \"Transaction processed successfully.\"\n",
    "\n",
    "# Example usage\n",
    "authorization_amount = 101  # Initial authorization amount\n",
    "purchase_amount = 50  # Purchase amount for goods/services\n",
    "incremental_authorizations = [20, 30]  # Successful incremental authorizations\n",
    "voided_transactions = [10, 15]  # Voided transactions\n",
    "grand_total_amount = 110  # Grand total amount including goods/services and gratuity\n",
    "gratuity_amount = 10  # Gratuity amount\n",
    "\n",
    "should_process, message = process_transaction(authorization_amount, purchase_amount, incremental_authorizations, voided_transactions, grand_total_amount, gratuity_amount)\n",
    "print(message)\n"
   ]
  },
  {
   "cell_type": "code",
   "execution_count": null,
   "id": "2c45f8c0",
   "metadata": {},
   "outputs": [],
   "source": []
  }
 ],
 "metadata": {
  "kernelspec": {
   "display_name": "Python 3 (ipykernel)",
   "language": "python",
   "name": "python3"
  },
  "language_info": {
   "codemirror_mode": {
    "name": "ipython",
    "version": 3
   },
   "file_extension": ".py",
   "mimetype": "text/x-python",
   "name": "python",
   "nbconvert_exporter": "python",
   "pygments_lexer": "ipython3",
   "version": "3.10.9"
  }
 },
 "nbformat": 4,
 "nbformat_minor": 5
}
